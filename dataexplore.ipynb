{
 "cells": [
  {
   "cell_type": "markdown",
   "id": "119dc335-4c4b-438c-9c98-0e6c5fabc36a",
   "metadata": {},
   "source": [
    "# Dataset exploration"
   ]
  },
  {
   "cell_type": "code",
   "execution_count": 31,
   "id": "c7f82629-2e93-449b-ae22-09cc22f0b1ba",
   "metadata": {},
   "outputs": [],
   "source": [
    "import xml.etree.ElementTree as ET"
   ]
  },
  {
   "cell_type": "code",
   "execution_count": 32,
   "id": "ce83de50-0ebf-4864-a9dd-d1f633daa557",
   "metadata": {},
   "outputs": [],
   "source": [
    "tree = ET.parse('data/annotations.xml')"
   ]
  },
  {
   "cell_type": "code",
   "execution_count": 62,
   "id": "a41afb58-c81a-4c40-899f-32e403be12f2",
   "metadata": {
    "scrolled": true
   },
   "outputs": [],
   "source": [
    "images = [\n",
    "    {\n",
    "        \"name\": image.attrib[\"name\"],\n",
    "        \"tags\": [tag.attrib[\"label\"] for tag in image.findall(\"tag\")]\n",
    "    }\n",
    "    for image in tree.findall(\"image\")\n",
    "]"
   ]
  },
  {
   "cell_type": "code",
   "execution_count": 63,
   "id": "db219f81-11ad-417c-9648-7e938e2789be",
   "metadata": {
    "scrolled": true
   },
   "outputs": [],
   "source": [
    "multiple_quality = []\n",
    "multiple_views = []\n",
    "multiple_views_and_extra = []\n",
    "no_views = []\n",
    "no_quality = []\n",
    "\n",
    "acceptable_tags = set([\n",
    "    \"quality 1 (perfect)\",\n",
    "    \"quality 2\",\n",
    "    \"quality 3\",\n",
    "    \"quality 4\",\n",
    "    \"quality 5 (unreadable)\",\n",
    "    \"ap view\",\n",
    "    \"axillary view\",\n",
    "    \"scapular y view\",\n",
    "    \"grashey view\",\n",
    "    \"velpeau\",\n",
    "    \"other\"\n",
    "])\n",
    "\n",
    "for image in images:\n",
    "    has_velpeau = False\n",
    "    has_other = False\n",
    "    view_count = 0\n",
    "    quality_count = 0\n",
    "\n",
    "    marks = set()  # use set for uniqueness\n",
    "\n",
    "    for tag in image[\"tags\"]:\n",
    "        tag = tag.lower()\n",
    "        \n",
    "        if tag not in acceptable_tags:\n",
    "            marks.add(\"unknown_tag\")\n",
    "            continue\n",
    "\n",
    "        if \"view\" in tag.lower():\n",
    "            view_count += 1\n",
    "            if view_count > 1:\n",
    "                marks.add(\"multiple_views\")\n",
    "                multiple_views.append(image)\n",
    "\n",
    "        if \"quality\" in tag.lower():\n",
    "            quality_count += 1\n",
    "            if quality_count > 1:\n",
    "                marks.add(\"multiple_quality\")\n",
    "                multiple_quality.append(image)\n",
    "\n",
    "        if tag == \"velpeau\":\n",
    "            has_velpeau = True\n",
    "        if tag == \"other\":\n",
    "            has_other = True\n",
    "\n",
    "    # post-processing classifications\n",
    "    if quality_count == 0:\n",
    "        marks.add(\"no_quality\")\n",
    "        no_quality.append(image)\n",
    "\n",
    "    if view_count == 0:\n",
    "        marks.add(\"no_views\")\n",
    "        no_views.append(image)\n",
    "\n",
    "    if view_count > 0 and (has_velpeau or has_other):\n",
    "        marks.add(\"multiple_views_and_extra\")\n",
    "        multiple_views_and_extra.append(image)\n",
    "\n",
    "    # convert set back to list before saving\n",
    "    image[\"marks\"] = list(marks)\n"
   ]
  },
  {
   "cell_type": "code",
   "execution_count": 64,
   "id": "52369d44-136a-4e88-b3d5-24d1aedd8063",
   "metadata": {
    "scrolled": true
   },
   "outputs": [
    {
     "name": "stdout",
     "output_type": "stream",
     "text": [
      "\n",
      "=== Classification Stats ===\n",
      "Total images: 4211\n",
      "  Multiple quality: 2\n",
      "  Multiple views: 2\n",
      "  Multiple views + extra: 40\n",
      "  No views: 270\n",
      "  No quality: 2342\n",
      "\n",
      "=== Quick Lists ===\n",
      "Multiple quality (2): 0, 1\n",
      "Multiple views (2): 0, 1\n",
      "Multiple views + extra (40): 0, 1, 2, 3, 4, 5, 6, 7, 8, 9 ...\n",
      "No views (270): 0, 1, 2, 3, 4, 5, 6, 7, 8, 9 ...\n",
      "No quality (2342): 0, 1, 2, 3, 4, 5, 6, 7, 8, 9 ...\n"
     ]
    }
   ],
   "source": [
    "print(\"\\n=== Classification Stats ===\")\n",
    "print(f\"Total images: {len(images)}\")\n",
    "print(f\"  Multiple quality: {len(multiple_quality)}\")\n",
    "print(f\"  Multiple views: {len(multiple_views)}\")\n",
    "print(f\"  Multiple views + extra: {len(multiple_views_and_extra)}\")\n",
    "print(f\"  No views: {len(no_views)}\")\n",
    "print(f\"  No quality: {len(no_quality)}\")\n",
    "\n",
    "# Optional: show quick IDs or indexes for debugging\n",
    "def summarize(lst, name, key=\"id\"):\n",
    "    ids = [str(img.get(key, i)) for i, img in enumerate(lst)]\n",
    "    print(f\"{name} ({len(lst)}): {', '.join(ids[:10])}{' ...' if len(ids) > 10 else ''}\")\n",
    "\n",
    "print(\"\\n=== Quick Lists ===\")\n",
    "summarize(multiple_quality, \"Multiple quality\")\n",
    "summarize(multiple_views, \"Multiple views\")\n",
    "summarize(multiple_views_and_extra, \"Multiple views + extra\")\n",
    "summarize(no_views, \"No views\")\n",
    "summarize(no_quality, \"No quality\")"
   ]
  },
  {
   "cell_type": "markdown",
   "id": "5abcde89-564f-41ee-84cb-3d35c7823854",
   "metadata": {},
   "source": [
    "# Dataset Binary True Labels"
   ]
  },
  {
   "cell_type": "code",
   "execution_count": 68,
   "id": "b74df93c-09a2-42c7-a9b0-0112cab50a67",
   "metadata": {},
   "outputs": [],
   "source": [
    "from load_dataset import make_dataset\n",
    "import json\n",
    "\n",
    "BASE_DIR = \"./data\"\n",
    "IMAGE_DIR = \"./data/images\"\n",
    "\n",
    "dataset_settings = {\n",
    "    \"image_size\": (224, 224),\n",
    "    \"label_map\": {\n",
    "        'quality 1 (perfect)':0,\n",
    "        'quality 2': None,\n",
    "        'quality 3': None,\n",
    "        'quality 4': 1,\n",
    "        'quality 5 (unreadable)': 1,\n",
    "    }\n",
    "}"
   ]
  },
  {
   "cell_type": "code",
   "execution_count": 69,
   "id": "4a5fb304-f3f2-4bde-bacd-668f313a57f5",
   "metadata": {},
   "outputs": [],
   "source": [
    "dataset = make_dataset(BASE_DIR, IMAGE_DIR, \n",
    "                       image_size=dataset_settings[\"image_size\"],\n",
    "                       label_map=dataset_settings[\"label_map\"])"
   ]
  },
  {
   "cell_type": "code",
   "execution_count": 76,
   "id": "03790abc-d11c-4c67-9f26-7c686cc427e2",
   "metadata": {
    "scrolled": true
   },
   "outputs": [
    {
     "name": "stdout",
     "output_type": "stream",
     "text": [
      "[\n",
      "  {\n",
      "    \"path\": \"MURA-v1.1/Negative/train/XR_SHOULDER/patient00007/study2_negative/image2.png\",\n",
      "    \"label\": 1.0\n",
      "  },\n",
      "  {\n",
      "    \"path\": \"MURA-v1.1/Negative/train/XR_SHOULDER/patient00074/study4_negative/image3.png\",\n",
      "    \"label\": 0.0\n",
      "  },\n",
      "  {\n",
      "    \"path\": \"MURA-v1.1/Negative/train/XR_SHOULDER/patient0 ...\n",
      "\n",
      "\n",
      "PAIRS 732\n"
     ]
    }
   ],
   "source": [
    "pairs = []\n",
    "hashes = {}\n",
    "\n",
    "for path, label in zip(dataset.images, dataset.labels):\n",
    "    pairs.append({ \"path\": path, \"label\": label.item() })\n",
    "    hashes[path] = label.item()\n",
    "\n",
    "json_str = json.dumps(pairs, indent=2)\n",
    "\n",
    "print(json_str[:300], \"...\\n\\n\")\n",
    "print(\"PAIRS\", len(pairs))"
   ]
  },
  {
   "cell_type": "code",
   "execution_count": 30,
   "id": "151aaba2-b1a3-4ca3-b0ca-7d5fdc3c6bb2",
   "metadata": {},
   "outputs": [],
   "source": [
    "with open(\"binary_dataset.json\", \"w\") as file:\n",
    "    file.write(json_str) "
   ]
  },
  {
   "cell_type": "code",
   "execution_count": 71,
   "id": "ba729507-9286-4d0a-a07e-ae669a90eb35",
   "metadata": {
    "scrolled": true
   },
   "outputs": [],
   "source": [
    "images_set = set(dataset.images)\n",
    "images_binary = [image for image in images if image[\"name\"] in images_set]\n",
    "\n",
    "assert len(images_binary) == len(pairs)"
   ]
  },
  {
   "cell_type": "code",
   "execution_count": 92,
   "id": "937c9924-2a94-436c-9920-7e33a90af799",
   "metadata": {},
   "outputs": [
    {
     "name": "stdout",
     "output_type": "stream",
     "text": [
      "0 - no retake:  {\n",
      "  \"Axillary View\": \"31.16531165311653%\",\n",
      "  \"Grashey View\": \"68.83468834688347%\",\n",
      "  \"quality 1 (perfect)\": \"100.0%\",\n",
      "  \"quality 2\": \"0.27100271002710025%\"\n",
      "}\n",
      "1 - retake xray:  {\n",
      "  \"Axillary View\": \"75.48209366391184%\",\n",
      "  \"Grashey View\": \"24.793388429752067%\",\n",
      "  \"other\": \"5.234159779614325%\",\n",
      "  \"quality 4\": \"81.81818181818183%\",\n",
      "  \"quality 5 (unreadable)\": \"18.181818181818183%\"\n",
      "}\n"
     ]
    }
   ],
   "source": [
    "counts_good = {}\n",
    "counts_bad = {}\n",
    "\n",
    "counts_good_total = 0\n",
    "counts_bad_total = 0\n",
    "\n",
    "for image in images_binary:\n",
    "    if hashes[image[\"name\"]] == 0:\n",
    "        counts_good_total += 1\n",
    "        for tag in image[\"tags\"]:\n",
    "            counts_good[tag] = counts_good.get(tag, 0) + 1\n",
    "    else:\n",
    "        counts_bad_total += 1\n",
    "        for tag in image[\"tags\"]:\n",
    "            counts_bad[tag] = counts_bad.get(tag, 0) + 1\n",
    "\n",
    "counts_good = dict(sorted(counts_good.items()))\n",
    "counts_bad = dict(sorted(counts_bad.items()))\n",
    "\n",
    "freqs_good = {key:str(value/counts_good_total*100) + \"%\" for key, value in counts_good.items()}\n",
    "freqs_bad = {key:str(value/counts_bad_total*100) + \"%\" for key, value in counts_bad.items()}\n",
    "\n",
    "print(\"0 - no retake: \",json.dumps(freqs_good, indent=2))\n",
    "print(\"1 - retake xray: \", json.dumps(freqs_bad, indent=2))"
   ]
  }
 ],
 "metadata": {
  "kernelspec": {
   "display_name": "Python 3 (ipykernel)",
   "language": "python",
   "name": "python3"
  },
  "language_info": {
   "codemirror_mode": {
    "name": "ipython",
    "version": 3
   },
   "file_extension": ".py",
   "mimetype": "text/x-python",
   "name": "python",
   "nbconvert_exporter": "python",
   "pygments_lexer": "ipython3",
   "version": "3.12.3"
  }
 },
 "nbformat": 4,
 "nbformat_minor": 5
}

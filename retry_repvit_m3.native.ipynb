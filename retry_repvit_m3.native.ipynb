{
 "cells": [
  {
   "cell_type": "code",
   "execution_count": null,
   "id": "cf5acc3b-2b83-4c2b-8379-556e00ade755",
   "metadata": {},
   "outputs": [],
   "source": [
    "from nbsession import NotebookSession\n",
    "from run_experiment import run_experiment"
   ]
  },
  {
   "cell_type": "code",
   "execution_count": null,
   "id": "da9a10df-db10-47dd-85ae-a0421bbce332",
   "metadata": {},
   "outputs": [],
   "source": [
    "DEVICE=\"cuda:1\"\n",
    "SHORT_NAME=\"repvit_m3.native\"\n",
    "MODEL_NAME=\"repvit_m3.dist_in1k\"\n",
    "IMAGE_RESOLUTION = 224\n",
    "\n",
    "\n",
    "# --- DEFAULTS\n",
    "BATCH_SIZE = 4\n",
    "EPOCHS = 30\n",
    "SEED = 9999"
   ]
  },
  {
   "cell_type": "code",
   "execution_count": null,
   "id": "086f452d-961f-484b-8d33-bfd00f686975",
   "metadata": {},
   "outputs": [],
   "source": [
    "sess = NotebookSession(\"./weight_decay_larger/\", SHORT_NAME)"
   ]
  },
  {
   "cell_type": "code",
   "execution_count": null,
   "id": "a5543302-487d-49b6-9ad3-df6dc91abe76",
   "metadata": {},
   "outputs": [],
   "source": [
    "# weight_decays = [2.5e-5, 2.5e-4, 2.5e-3, 2.5e-2, 2.5e-1]\n",
    "weight_decays = [25]\n",
    "\n",
    "for i, wd in enumerate(weight_decays):\n",
    "    run_experiment(\n",
    "        sess,\n",
    "        DEVICE,\n",
    "        SHORT_NAME,\n",
    "        MODEL_NAME,\n",
    "        IMAGE_RESOLUTION,\n",
    "        BATCH_SIZE,\n",
    "        EPOCHS,\n",
    "        weight_decay=wd,\n",
    "        grid_idx=i,\n",
    "        seed=SEED\n",
    "    )"
   ]
  },
  {
   "cell_type": "code",
   "execution_count": null,
   "id": "f0a8c363-673b-46c1-821b-3ceb0e4309b8",
   "metadata": {},
   "outputs": [],
   "source": []
  }
 ],
 "metadata": {
  "kernelspec": {
   "display_name": "Python 3 (ipykernel)",
   "language": "python",
   "name": "python3"
  },
  "language_info": {
   "codemirror_mode": {
    "name": "ipython",
    "version": 3
   },
   "file_extension": ".py",
   "mimetype": "text/x-python",
   "name": "python",
   "nbconvert_exporter": "python",
   "pygments_lexer": "ipython3",
   "version": "3.12.3"
  }
 },
 "nbformat": 4,
 "nbformat_minor": 5
}
